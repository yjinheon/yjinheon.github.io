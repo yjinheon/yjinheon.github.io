{
 "cells": [
  {
   "cell_type": "markdown",
   "metadata": {},
   "source": [
    "#### 순환하는 시계열 feature 전처리하기\n",
    "\n",
    "ref : http://blog.davidkaleko.com/feature-engineering-cyclical-features.html"
   ]
  },
  {
   "cell_type": "code",
   "execution_count": 2,
   "metadata": {},
   "outputs": [
    {
     "name": "stdout",
     "output_type": "stream",
     "text": [
      "  % Total    % Received % Xferd  Average Speed   Time    Time     Time  Current\n",
      "                                 Dload  Upload   Total   Spent    Left  Speed\n",
      "100  273k  100  273k    0     0   164k      0  0:00:01  0:00:01 --:--:--  164k\n",
      "Archive:  Bike-Sharing-Dataset.zip\n",
      "  inflating: data/bike_sharing/Readme.txt  \n",
      "  inflating: data/bike_sharing/day.csv  \n",
      "  inflating: data/bike_sharing/hour.csv  \n"
     ]
    }
   ],
   "source": [
    "!curl -O 'https://archive.ics.uci.edu/ml/machine-learning-databases/00275/Bike-Sharing-Dataset.zip'\n",
    "!mkdir data\n",
    "!unzip 'Bike-Sharing-Dataset.zip' -d 'data/bike_sharing'"
   ]
  },
  {
   "cell_type": "code",
   "execution_count": 4,
   "metadata": {},
   "outputs": [
    {
     "name": "stdout",
     "output_type": "stream",
     "text": [
      "['instant' 'dteday' 'season' 'yr' 'mnth' 'hr' 'holiday' 'weekday'\n",
      " 'workingday' 'weathersit' 'temp' 'atemp' 'hum' 'windspeed' 'casual'\n",
      " 'registered' 'cnt']\n"
     ]
    }
   ],
   "source": [
    "import pandas as pd\n",
    "\n",
    "df = pd.read_csv('data/bike_sharing/hour.csv')\n",
    "print(df.columns.values) "
   ]
  },
  {
   "cell_type": "code",
   "execution_count": 5,
   "metadata": {},
   "outputs": [],
   "source": [
    "df = df[['mnth','hr','cnt']].copy()"
   ]
  },
  {
   "cell_type": "code",
   "execution_count": 7,
   "metadata": {},
   "outputs": [
    {
     "name": "stdout",
     "output_type": "stream",
     "text": [
      "Unique values of month: [ 1  2  3  4  5  6  7  8  9 10 11 12]\n",
      "Unique values of hour: [ 0  1  2  3  4  5  6  7  8  9 10 11 12 13 14 15 16 17 18 19 20 21 22 23]\n"
     ]
    }
   ],
   "source": [
    "print ('Unique values of month:',df.mnth.unique())\n",
    "print ('Unique values of hour:',df.hr.unique())"
   ]
  },
  {
   "cell_type": "code",
   "execution_count": null,
   "metadata": {},
   "outputs": [],
   "source": []
  }
 ],
 "metadata": {
  "interpreter": {
   "hash": "8eba5190429ec69ed9142d9af0d6e9d793f6f50f515fafbe5d718ad04466bd4c"
  },
  "kernelspec": {
   "display_name": "Python 3.9.7 64-bit ('base': conda)",
   "language": "python",
   "name": "python3"
  },
  "language_info": {
   "codemirror_mode": {
    "name": "ipython",
    "version": 3
   },
   "file_extension": ".py",
   "mimetype": "text/x-python",
   "name": "python",
   "nbconvert_exporter": "python",
   "pygments_lexer": "ipython3",
   "version": "3.9.7"
  },
  "orig_nbformat": 4
 },
 "nbformat": 4,
 "nbformat_minor": 2
}
